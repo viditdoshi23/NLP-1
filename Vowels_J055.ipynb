{
  "nbformat": 4,
  "nbformat_minor": 0,
  "metadata": {
    "colab": {
      "name": "Vowels_J055.ipynb",
      "provenance": []
    },
    "kernelspec": {
      "name": "python3",
      "display_name": "Python 3"
    }
  },
  "cells": [
    {
      "cell_type": "code",
      "metadata": {
        "id": "kzlihDSFHPqq",
        "colab_type": "code",
        "colab": {}
      },
      "source": [
        "import pandas as pd\n"
      ],
      "execution_count": 0,
      "outputs": []
    },
    {
      "cell_type": "code",
      "metadata": {
        "id": "bb74zqRcHmfs",
        "colab_type": "code",
        "colab": {}
      },
      "source": [
        "df = pd.read_json(\"http://snap.stanford.edu/data/amazon/productGraph/categoryFiles/reviews_Office_Products_5.json.gz\", lines=True)\n"
      ],
      "execution_count": 0,
      "outputs": []
    },
    {
      "cell_type": "code",
      "metadata": {
        "id": "TWO9JaWxHuWy",
        "colab_type": "code",
        "colab": {}
      },
      "source": [
        "def words(str):\n",
        "  words = str.split()\n",
        "  count = 0\n",
        "  for w in words:\n",
        "    count+=1\n",
        "  return count"
      ],
      "execution_count": 0,
      "outputs": []
    },
    {
      "cell_type": "code",
      "metadata": {
        "id": "Y1phkHdbH5EV",
        "colab_type": "code",
        "colab": {}
      },
      "source": [
        "def count(str):\n",
        "  wordCount = {'vowels':0,'cons':0,'count':0}\n",
        "  str = str.lower()\n",
        "  wordCount['count']=words(str)\n",
        "  for i in range(0,len(str)):\n",
        "    if str[i] in ('a','e','i','o','u'):\n",
        "      wordCount['vowels']+=1\n",
        "    else:\n",
        "      wordCount['cons']+=1\n",
        "    \n",
        "  return wordCount"
      ],
      "execution_count": 0,
      "outputs": []
    },
    {
      "cell_type": "code",
      "metadata": {
        "id": "MVB4sNtBIB6D",
        "colab_type": "code",
        "colab": {}
      },
      "source": [
        "df['ReviewVowels']=df['reviewText'].apply(count)"
      ],
      "execution_count": 0,
      "outputs": []
    },
    {
      "cell_type": "code",
      "metadata": {
        "id": "z2f4ZOvuIVp4",
        "colab_type": "code",
        "colab": {}
      },
      "source": [
        "df['ReviewWordcount']=df['reviewText'].apply(words)"
      ],
      "execution_count": 0,
      "outputs": []
    },
    {
      "cell_type": "code",
      "metadata": {
        "id": "18DcSZcQIeB6",
        "colab_type": "code",
        "colab": {
          "base_uri": "https://localhost:8080/",
          "height": 363
        },
        "outputId": "718166ab-8f8d-4f06-f8e7-5a7815858374"
      },
      "source": [
        "df.head()"
      ],
      "execution_count": 7,
      "outputs": [
        {
          "output_type": "execute_result",
          "data": {
            "text/html": [
              "<div>\n",
              "<style scoped>\n",
              "    .dataframe tbody tr th:only-of-type {\n",
              "        vertical-align: middle;\n",
              "    }\n",
              "\n",
              "    .dataframe tbody tr th {\n",
              "        vertical-align: top;\n",
              "    }\n",
              "\n",
              "    .dataframe thead th {\n",
              "        text-align: right;\n",
              "    }\n",
              "</style>\n",
              "<table border=\"1\" class=\"dataframe\">\n",
              "  <thead>\n",
              "    <tr style=\"text-align: right;\">\n",
              "      <th></th>\n",
              "      <th>reviewerID</th>\n",
              "      <th>asin</th>\n",
              "      <th>reviewerName</th>\n",
              "      <th>helpful</th>\n",
              "      <th>reviewText</th>\n",
              "      <th>overall</th>\n",
              "      <th>summary</th>\n",
              "      <th>unixReviewTime</th>\n",
              "      <th>reviewTime</th>\n",
              "      <th>ReviewVowels</th>\n",
              "      <th>ReviewWordcount</th>\n",
              "    </tr>\n",
              "  </thead>\n",
              "  <tbody>\n",
              "    <tr>\n",
              "      <th>0</th>\n",
              "      <td>A32T2H8150OJLU</td>\n",
              "      <td>B00000JBLH</td>\n",
              "      <td>ARH</td>\n",
              "      <td>[3, 4]</td>\n",
              "      <td>I bought my first HP12C in about 1984 or so, a...</td>\n",
              "      <td>5</td>\n",
              "      <td>A solid performer, and long time friend</td>\n",
              "      <td>1094169600</td>\n",
              "      <td>09 3, 2004</td>\n",
              "      <td>{'vowels': 279, 'cons': 693, 'count': 186}</td>\n",
              "      <td>186</td>\n",
              "    </tr>\n",
              "    <tr>\n",
              "      <th>1</th>\n",
              "      <td>A3MAFS04ZABRGO</td>\n",
              "      <td>B00000JBLH</td>\n",
              "      <td>Let it Be \"Alan\"</td>\n",
              "      <td>[7, 9]</td>\n",
              "      <td>WHY THIS BELATED REVIEW? I feel very obliged t...</td>\n",
              "      <td>5</td>\n",
              "      <td>Price of GOLD is up, so don't bury the golden ...</td>\n",
              "      <td>1197676800</td>\n",
              "      <td>12 15, 2007</td>\n",
              "      <td>{'vowels': 1504, 'cons': 3851, 'count': 911}</td>\n",
              "      <td>911</td>\n",
              "    </tr>\n",
              "    <tr>\n",
              "      <th>2</th>\n",
              "      <td>A1F1A0QQP2XVH5</td>\n",
              "      <td>B00000JBLH</td>\n",
              "      <td>Mark B</td>\n",
              "      <td>[3, 3]</td>\n",
              "      <td>I have an HP 48GX that has been kicking for mo...</td>\n",
              "      <td>2</td>\n",
              "      <td>Good functionality, but not durable like old HPs</td>\n",
              "      <td>1293840000</td>\n",
              "      <td>01 1, 2011</td>\n",
              "      <td>{'vowels': 134, 'cons': 361, 'count': 96}</td>\n",
              "      <td>96</td>\n",
              "    </tr>\n",
              "    <tr>\n",
              "      <th>3</th>\n",
              "      <td>A49R5DBXXQDE5</td>\n",
              "      <td>B00000JBLH</td>\n",
              "      <td>R. D Johnson</td>\n",
              "      <td>[7, 8]</td>\n",
              "      <td>I've started doing more finance stuff recently...</td>\n",
              "      <td>5</td>\n",
              "      <td>One of the last of an almost extinct species</td>\n",
              "      <td>1145404800</td>\n",
              "      <td>04 19, 2006</td>\n",
              "      <td>{'vowels': 1089, 'cons': 2559, 'count': 603}</td>\n",
              "      <td>603</td>\n",
              "    </tr>\n",
              "    <tr>\n",
              "      <th>4</th>\n",
              "      <td>A2XRMQA6PJ5ZJ8</td>\n",
              "      <td>B00000JBLH</td>\n",
              "      <td>Roger J. Buffington</td>\n",
              "      <td>[0, 0]</td>\n",
              "      <td>For simple calculations and discounted cash fl...</td>\n",
              "      <td>5</td>\n",
              "      <td>Still the best</td>\n",
              "      <td>1375574400</td>\n",
              "      <td>08 4, 2013</td>\n",
              "      <td>{'vowels': 208, 'cons': 496, 'count': 120}</td>\n",
              "      <td>120</td>\n",
              "    </tr>\n",
              "  </tbody>\n",
              "</table>\n",
              "</div>"
            ],
            "text/plain": [
              "       reviewerID  ... ReviewWordcount\n",
              "0  A32T2H8150OJLU  ...             186\n",
              "1  A3MAFS04ZABRGO  ...             911\n",
              "2  A1F1A0QQP2XVH5  ...              96\n",
              "3   A49R5DBXXQDE5  ...             603\n",
              "4  A2XRMQA6PJ5ZJ8  ...             120\n",
              "\n",
              "[5 rows x 11 columns]"
            ]
          },
          "metadata": {
            "tags": []
          },
          "execution_count": 7
        }
      ]
    }
  ]
}