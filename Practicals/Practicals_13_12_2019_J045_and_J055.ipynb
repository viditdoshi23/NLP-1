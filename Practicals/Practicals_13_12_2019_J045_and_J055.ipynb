{
  "nbformat": 4,
  "nbformat_minor": 0,
  "metadata": {
    "colab": {
      "name": "Practicals 13-12-2019 J045 and J055",
      "provenance": []
    },
    "kernelspec": {
      "name": "python3",
      "display_name": "Python 3"
    }
  },
  "cells": [
    {
      "cell_type": "code",
      "metadata": {
        "id": "GOSkxtGD69YC",
        "colab_type": "code",
        "colab": {}
      },
      "source": [
        "import pandas as pd\n",
        "#Reading Data\n",
        "data = pd.read_json(\"http://snap.stanford.edu/data/amazon/productGraph/categoryFiles/reviews_Office_Products_5.json.gz\",lines=True)"
      ],
      "execution_count": 0,
      "outputs": []
    },
    {
      "cell_type": "code",
      "metadata": {
        "id": "zCxu4ArJvOZV",
        "colab_type": "code",
        "colab": {}
      },
      "source": [
        "import spacy\n",
        "sp = spacy.load('en_core_web_sm')"
      ],
      "execution_count": 0,
      "outputs": []
    },
    {
      "cell_type": "code",
      "metadata": {
        "id": "2w74T5fP-y0M",
        "colab_type": "code",
        "outputId": "cdbc9f30-209c-4bdb-f8e5-2c95c57a4ba1",
        "colab": {
          "base_uri": "https://localhost:8080/",
          "height": 138
        }
      },
      "source": [
        "import nltk\n",
        "nltk.download('punkt')\n",
        "nltk.download('averaged_perceptron_tagger')"
      ],
      "execution_count": 0,
      "outputs": [
        {
          "output_type": "stream",
          "text": [
            "[nltk_data] Downloading package punkt to /root/nltk_data...\n",
            "[nltk_data]   Package punkt is already up-to-date!\n",
            "[nltk_data] Downloading package averaged_perceptron_tagger to\n",
            "[nltk_data]     /root/nltk_data...\n",
            "[nltk_data]   Package averaged_perceptron_tagger is already up-to-\n",
            "[nltk_data]       date!\n"
          ],
          "name": "stdout"
        },
        {
          "output_type": "execute_result",
          "data": {
            "text/plain": [
              "True"
            ]
          },
          "metadata": {
            "tags": []
          },
          "execution_count": 52
        }
      ]
    },
    {
      "cell_type": "code",
      "metadata": {
        "id": "HBxwnRap8DaP",
        "colab_type": "code",
        "colab": {}
      },
      "source": [
        "def spacy_noun_to_verb_ratio(str):\n",
        "  sentence = sp(str)\n",
        "  noun = 0 \n",
        "  verb = 0\n",
        "  for text in sentence:\n",
        "    if text.pos_ == 'NOUN':\n",
        "      noun+=1\n",
        "    if text.pos_ == 'VERB':\n",
        "      verb+=1\n",
        "  if verb != 0:\n",
        "    result = {'Ratio':noun/verb,'Nouns':noun,'Verbs':verb}  \n",
        "  else:\n",
        "    result = {'Ratio':'Division by Zero Error','Nouns':noun,'Verbs':verb}\n",
        "  return result"
      ],
      "execution_count": 0,
      "outputs": []
    },
    {
      "cell_type": "code",
      "metadata": {
        "colab_type": "code",
        "id": "SwvWwW1j0bwl",
        "colab": {}
      },
      "source": [
        "data[\"reviewTextN_to_V_Ratio_Spacy\"] = data.reviewText.apply(spacy_noun_to_verb_ratio)"
      ],
      "execution_count": 0,
      "outputs": []
    },
    {
      "cell_type": "code",
      "metadata": {
        "id": "-v9Pcci_0QBq",
        "colab_type": "code",
        "outputId": "ea2779c5-2cbd-4173-896f-843abb01a4c4",
        "colab": {
          "base_uri": "https://localhost:8080/",
          "height": 225
        }
      },
      "source": [
        "data.reviewTextN_to_V_Ratio_Spacy"
      ],
      "execution_count": 0,
      "outputs": [
        {
          "output_type": "execute_result",
          "data": {
            "text/plain": [
              "0        {'Ratio': 0.6410256410256411, 'Nouns': 25, 'Ve...\n",
              "1        {'Ratio': 1.5763888888888888, 'Nouns': 227, 'V...\n",
              "2        {'Ratio': 0.8947368421052632, 'Nouns': 17, 'Ve...\n",
              "3        {'Ratio': 1.185483870967742, 'Nouns': 147, 'Ve...\n",
              "4                {'Ratio': 1.04, 'Nouns': 26, 'Verbs': 25}\n",
              "                               ...                        \n",
              "53253    {'Ratio': 0.9090909090909091, 'Nouns': 30, 'Ve...\n",
              "53254    {'Ratio': 1.2365591397849462, 'Nouns': 115, 'V...\n",
              "53255    {'Ratio': 1.3157894736842106, 'Nouns': 75, 'Ve...\n",
              "53256    {'Ratio': 0.7575757575757576, 'Nouns': 25, 'Ve...\n",
              "53257    {'Ratio': 1.0769230769230769, 'Nouns': 70, 'Ve...\n",
              "Name: reviewTextN_to_V_Ratio_Spacy, Length: 53258, dtype: object"
            ]
          },
          "metadata": {
            "tags": []
          },
          "execution_count": 55
        }
      ]
    },
    {
      "cell_type": "code",
      "metadata": {
        "id": "K-x7azND-24-",
        "colab_type": "code",
        "colab": {}
      },
      "source": [
        "def nltk_noun_to_verb_ratio(str):\n",
        "  tokens = nltk.word_tokenize(str)\n",
        "  pos = nltk.pos_tag(tokens)\n",
        "  verbs = ['VB','VBD','VBG','VBN','VBP','VBZ']\n",
        "  nouns = ['NN','NNP','NNS','NNPS']\n",
        "  noun = 0 \n",
        "  verb = 0\n",
        "  for tag in pos:\n",
        "    if tag[1] in nouns:\n",
        "      noun+=1\n",
        "    if tag[1] in verbs:\n",
        "      verb+=1\n",
        "\n",
        "  if verb != 0:\n",
        "    result = {'Ratio':noun/verb,'Nouns':noun,'Verbs':verb}  \n",
        "  else:\n",
        "    result = {'Ratio':'Division by Zero Error','Nouns':noun,'Verbs':verb}\n",
        "  return result"
      ],
      "execution_count": 0,
      "outputs": []
    },
    {
      "cell_type": "code",
      "metadata": {
        "id": "sakUn5Dg0gSp",
        "colab_type": "code",
        "colab": {}
      },
      "source": [
        "data[\"reviewTextN_to_V_Ratio_nltk\"] = data.reviewText.apply(nltk_noun_to_verb_ratio)"
      ],
      "execution_count": 0,
      "outputs": []
    },
    {
      "cell_type": "code",
      "metadata": {
        "id": "MmW6-ABJ0lJz",
        "colab_type": "code",
        "outputId": "777bdebe-ecba-48e6-c1d1-5ecc99f6fa2e",
        "colab": {
          "base_uri": "https://localhost:8080/",
          "height": 225
        }
      },
      "source": [
        "data.reviewTextN_to_V_Ratio_nltk"
      ],
      "execution_count": 0,
      "outputs": [
        {
          "output_type": "execute_result",
          "data": {
            "text/plain": [
              "0        {'Ratio': 0.6666666666666666, 'Nouns': 26, 'Ve...\n",
              "1        {'Ratio': 2.7131147540983607, 'Nouns': 331, 'V...\n",
              "2        {'Ratio': 0.9473684210526315, 'Nouns': 18, 'Ve...\n",
              "3        {'Ratio': 1.6272727272727272, 'Nouns': 179, 'V...\n",
              "4        {'Ratio': 1.4545454545454546, 'Nouns': 32, 'Ve...\n",
              "                               ...                        \n",
              "53253    {'Ratio': 1.2222222222222223, 'Nouns': 33, 'Ve...\n",
              "53254    {'Ratio': 1.3977272727272727, 'Nouns': 123, 'V...\n",
              "53255    {'Ratio': 1.3392857142857142, 'Nouns': 75, 'Ve...\n",
              "53256    {'Ratio': 0.8709677419354839, 'Nouns': 27, 'Ve...\n",
              "53257    {'Ratio': 1.2033898305084745, 'Nouns': 71, 'Ve...\n",
              "Name: reviewTextN_to_V_Ratio_nltk, Length: 53258, dtype: object"
            ]
          },
          "metadata": {
            "tags": []
          },
          "execution_count": 58
        }
      ]
    }
  ]
}