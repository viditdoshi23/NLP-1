{
  "nbformat": 4,
  "nbformat_minor": 0,
  "metadata": {
    "colab": {
      "name": "j055_primenumber.ipynb",
      "provenance": [],
      "collapsed_sections": []
    },
    "kernelspec": {
      "name": "python3",
      "display_name": "Python 3"
    }
  },
  "cells": [
    {
      "cell_type": "code",
      "metadata": {
        "id": "dxu0mchO-TI4",
        "colab_type": "code",
        "colab": {}
      },
      "source": [
        "def is_prime(n):\n",
        "   \n",
        "    if n <= 1:\n",
        "        return False\n",
        "    elif n <= 3:\n",
        "        return True\n",
        "    elif n % 2 == 0 or n % 3 == 0:\n",
        "        return False\n",
        "    for i in range(5, int(n ** 0.5) + 1, 6):\n",
        "        if n % i == 0 or n % (i + 2) == 0:\n",
        "            return False\n",
        "    return True\n",
        "\n",
        "\n"
      ],
      "execution_count": 0,
      "outputs": []
    },
    {
      "cell_type": "code",
      "metadata": {
        "id": "CAmT0xS1_80F",
        "colab_type": "code",
        "colab": {}
      },
      "source": [
        "def nth_prime(n):\n",
        "    if n < 1:\n",
        "        raise ValueError\n",
        "    primes = [2]\n",
        "    number = 3\n",
        "    while len(primes) < n:\n",
        "        if is_prime(number):\n",
        "            primes.append(number)\n",
        "        number += 2\n",
        "    return primes[-1]"
      ],
      "execution_count": 0,
      "outputs": []
    },
    {
      "cell_type": "code",
      "metadata": {
        "id": "t1ql1IPr_-qF",
        "colab_type": "code",
        "colab": {
          "base_uri": "https://localhost:8080/",
          "height": 34
        },
        "outputId": "83a19d44-2f80-4eb5-c475-c5dc31359fac"
      },
      "source": [
        "nth_prime(5)"
      ],
      "execution_count": 4,
      "outputs": [
        {
          "output_type": "execute_result",
          "data": {
            "text/plain": [
              "11"
            ]
          },
          "metadata": {
            "tags": []
          },
          "execution_count": 4
        }
      ]
    }
  ]
}